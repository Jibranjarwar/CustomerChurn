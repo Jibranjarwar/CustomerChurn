{
 "cells": [
  {
   "cell_type": "code",
   "execution_count": null,
   "id": "31b9f833",
   "metadata": {},
   "outputs": [
    {
     "data": {
      "text/plain": [
       "True"
      ]
     },
     "execution_count": 1,
     "metadata": {},
     "output_type": "execute_result"
    }
   ],
   "source": [
    "import pandas as pd\n",
    "from sqlalchemy import create_engine\n",
    "import os\n",
    "from dotenv import load_dotenv\n",
    "import seaborn as sns\n",
    "import matplotlib.pyplot as plt\n",
    "from datetime import datetime\n",
    "\n",
    "\n",
    "# Load .env\n",
    "load_dotenv()"
   ]
  },
  {
   "cell_type": "code",
   "execution_count": null,
   "id": "a44381e7-5445-4ca0-b90b-f8d5104a7748",
   "metadata": {},
   "outputs": [
    {
     "ename": "",
     "evalue": "",
     "output_type": "error",
     "traceback": [
      "\u001b[1;31mRunning cells with 'Python 3.11.7' requires the ipykernel package.\n",
      "\u001b[1;31m<a href='command:jupyter.createPythonEnvAndSelectController'>Create a Python Environment</a> with the required packages.\n",
      "\u001b[1;31mOr install 'ipykernel' using the command: 'c:/msys64/ucrt64/bin/python.exe -m pip install ipykernel -U --user --force-reinstall'"
     ]
    }
   ],
   "source": [
    "engine = create_engine(\n",
    "    f\"postgresql+psycopg://{os.getenv('DB_USER')}:{os.getenv('DB_PASSWORD')}@{os.getenv('DB_HOST')}:{os.getenv('DB_PORT')}/{os.getenv('DB_NAME')}\"\n",
    ")"
   ]
  },
  {
   "cell_type": "code",
   "execution_count": null,
   "id": "55098aa5-6bd2-4a3b-b9d2-d4cdb8cb0425",
   "metadata": {},
   "outputs": [],
   "source": [
    "df = pd.read_sql(\"SELECT * FROM customers\", engine)\n",
    "df.head()"
   ]
  },
  {
   "cell_type": "code",
   "execution_count": null,
   "id": "73a69478-4531-4a22-af0f-5fff8aa197be",
   "metadata": {},
   "outputs": [],
   "source": [
    "df.info()\n",
    "df.describe()\n",
    "df['churned'].value_counts(normalize=True)"
   ]
  },
  {
   "cell_type": "code",
   "execution_count": null,
   "id": "641ad9d4-0aa9-491b-937a-273a6b758ef3",
   "metadata": {},
   "outputs": [],
   "source": [
    "df.corr(numeric_only=True)\n",
    "df.groupby('churned').mean(numeric_only=True)"
   ]
  },
  {
   "cell_type": "code",
   "execution_count": null,
   "id": "2ff751f6-1ad2-4196-a8f3-99570e8f670d",
   "metadata": {},
   "outputs": [],
   "source": [
    "sns.boxplot(x='churned', y='monthly_spend', data=df)\n",
    "plt.title(\"Monthly Spend vs Churn\")\n",
    "plt.show()"
   ]
  },
  {
   "cell_type": "code",
   "execution_count": null,
   "id": "f16c8c16-f3d0-42cc-abd7-0dfa2af673c0",
   "metadata": {},
   "outputs": [],
   "source": [
    "df[\"signup_date\"] = pd.to_datetime(df[\"signup_date\"])\n",
    "df[\"last_active_date\"] = pd.to_datetime(df[\"last_active_date\"])\n",
    "today = pd.to_datetime(\"today\")\n",
    "\n",
    "df[\"tenure_days\"] = (today - df[\"signup_date\"]).dt.days\n",
    "\n",
    "df[\"logins_per_day\"] = df[\"logins_last_30_days\"] / 30\n",
    "\n",
    "df[\"tickets_per_month\"] = df[\"support_tickets\"] / (df[\"tenure_days\"] / 30 + 0.01)"
   ]
  },
  {
   "cell_type": "code",
   "execution_count": null,
   "id": "3039077a-b46b-464e-b7b7-3f8d0fc44244",
   "metadata": {},
   "outputs": [],
   "source": [
    "features_for_model = [\n",
    "    \"monthly_spend\",\n",
    "    \"tenure_days\",\n",
    "    \"logins_per_day\",\n",
    "    \"tickets_per_month\",\n",
    "    \"support_tickets\",\n",
    "    \"logins_last_30_days\"\n",
    "]\n",
    "\n",
    "X = df[features_for_model] \n",
    "y = df['churned']          \n",
    "\n",
    "model_data = pd.concat([X, y], axis=1)  \n",
    "model_data.to_csv(\"../data/processed/customers_clean.csv\", index=False)\n",
    "\n",
    "print(\"Feature Correlations:\")\n",
    "print(X.corr())\n",
    "\n",
    "plt.figure(figsize=(10, 6))\n",
    "sns.heatmap(X.corr(), annot=True, cmap='coolwarm')\n",
    "plt.title('Feature Correlation Matrix')\n",
    "plt.tight_layout()\n",
    "plt.show()\n"
   ]
  },
  {
   "cell_type": "code",
   "execution_count": null,
   "id": "0b4f29e0-e275-45c7-b9dd-5cb40cab70dd",
   "metadata": {},
   "outputs": [],
   "source": [
    "import pandas as pd\n",
    "\n",
    "df = pd.read_csv(\"../data/processed/customers_clean.csv\")\n",
    "\n",
    "print(\"Duplicates:\", df.duplicated().sum())\n",
    "\n",
    "print(\"Missing values:\\n\", df.isnull().sum())\n",
    "\n",
    "print(\"Churned value counts:\\n\", df['churned'].value_counts(normalize=True))\n",
    "\n",
    "print(\"Correlation with churned:\\n\", df.corr(numeric_only=True)['churned'].sort_values(ascending=False))\n",
    "\n",
    "df = pd.read_csv(\"../data/processed/customers_clean.csv\")\n",
    "\n",
    "for col in [\"logins_per_day\", \"tickets_per_month\"]:\n",
    "    print(f\"\\n{col} by churned status:\")\n",
    "    print(df.groupby(\"churned\")[col].describe())"
   ]
  }
 ],
 "metadata": {
  "kernelspec": {
   "display_name": "Python 3",
   "language": "python",
   "name": "python3"
  },
  "language_info": {
   "codemirror_mode": {
    "name": "ipython",
    "version": 3
   },
   "file_extension": ".py",
   "mimetype": "text/x-python",
   "name": "python",
   "nbconvert_exporter": "python",
   "pygments_lexer": "ipython3",
   "version": "3.11.7"
  }
 },
 "nbformat": 4,
 "nbformat_minor": 5
}
